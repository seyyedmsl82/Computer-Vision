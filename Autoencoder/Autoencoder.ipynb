{
  "nbformat": 4,
  "nbformat_minor": 0,
  "metadata": {
    "colab": {
      "provenance": [],
      "gpuType": "T4"
    },
    "kernelspec": {
      "name": "python3",
      "display_name": "Python 3"
    },
    "language_info": {
      "name": "python"
    },
    "accelerator": "GPU"
  },
  "cells": [
    {
      "cell_type": "code",
      "execution_count": 1,
      "metadata": {
        "id": "0oiPH9MeNe2H"
      },
      "outputs": [],
      "source": [
        "import numpy as np\n",
        "import matplotlib\n",
        "matplotlib.use('Agg')\n",
        "import matplotlib.pyplot as plt\n",
        "import cv2\n",
        "\n",
        "import tensorflow as tf\n",
        "from tensorflow import keras\n",
        "from tensorflow.keras.models import Model\n",
        "from tensorflow.keras.layers import BatchNormalization, Conv2D, Conv2DTranspose, LeakyReLU, Flatten, Dense, Reshape, Input, Activation\n",
        "from tensorflow.keras.datasets import mnist\n",
        "from keras.callbacks import ReduceLROnPlateau, EarlyStopping\n",
        "\n",
        "from tensorflow.keras import backend as K"
      ]
    },
    {
      "cell_type": "code",
      "source": [
        "class ConvAutoencoder:\n",
        "  def build(width, height, depth, filters=(32,64), latentDim=16):\n",
        "    input_shape = (height, width, depth)\n",
        "    chanDim = -1\n",
        "\n",
        "    inputs = Input(shape=input_shape)\n",
        "    x = inputs\n",
        "\n",
        "    for filter in filters:\n",
        "      x = Conv2D(filter, (3, 3), 2, padding='same')(x)\n",
        "      x = LeakyReLU(0.2)(x)\n",
        "      x = BatchNormalization(axis=chanDim)(x)\n",
        "\n",
        "    volume_size = K.int_shape(x)\n",
        "    x = Flatten()(x)\n",
        "    latent = Dense(latentDim)(x)\n",
        "\n",
        "    encoder = Model(inputs, latent, name='encoder')\n",
        "\n",
        "    latent_inputs = Input(shape=(latentDim,))\n",
        "    x = Dense(np.prod(volume_size[1:]))(latent_inputs)\n",
        "    x = Reshape((volume_size[1], volume_size[2], volume_size[3]))(x)\n",
        "\n",
        "    for filter in filters[::-1]:\n",
        "      x = Conv2DTranspose(filter, (3, 3), 2, padding='same')(x)\n",
        "      x = LeakyReLU(0.2)(x)\n",
        "      x = BatchNormalization(axis=chanDim)(x)\n",
        "\n",
        "    x = Conv2DTranspose(depth, (3, 3), padding='same')(x)\n",
        "    outputs = Activation('sigmoid')(x)\n",
        "\n",
        "    decoder = Model(latent_inputs, outputs, name='decoder')\n",
        "\n",
        "    autoencoder = Model(inputs, decoder(encoder(inputs)), name='autoencoder')\n",
        "\n",
        "    return autoencoder"
      ],
      "metadata": {
        "id": "D3RGATGBPDd1"
      },
      "execution_count": 2,
      "outputs": []
    },
    {
      "cell_type": "code",
      "source": [
        "epoch = 20\n",
        "batch_size = 32\n",
        "\n",
        "((train_x, _), (test_x, _)) = mnist.load_data()"
      ],
      "metadata": {
        "id": "WDWw54veR-c1",
        "colab": {
          "base_uri": "https://localhost:8080/"
        },
        "outputId": "88775515-5819-447a-ce7f-8a191e976ecf"
      },
      "execution_count": 3,
      "outputs": [
        {
          "output_type": "stream",
          "name": "stdout",
          "text": [
            "Downloading data from https://storage.googleapis.com/tensorflow/tf-keras-datasets/mnist.npz\n",
            "11490434/11490434 [==============================] - 0s 0us/step\n"
          ]
        }
      ]
    },
    {
      "cell_type": "code",
      "source": [
        "train_x = np.expand_dims(train_x, axis=-1)\n",
        "test_x = np.expand_dims(test_x, axis=-1)"
      ],
      "metadata": {
        "id": "C3kpl--CSNc8"
      },
      "execution_count": 4,
      "outputs": []
    },
    {
      "cell_type": "code",
      "source": [
        "train_x = train_x.astype('float32')/255.0\n",
        "test_x = test_x.astype('float32')/255.0"
      ],
      "metadata": {
        "id": "YlFjQAfySgcP"
      },
      "execution_count": 5,
      "outputs": []
    },
    {
      "cell_type": "code",
      "source": [
        "autoencoder = ConvAutoencoder.build(28, 28, 1)"
      ],
      "metadata": {
        "id": "IEea43A0S0Ij"
      },
      "execution_count": 6,
      "outputs": []
    },
    {
      "cell_type": "code",
      "source": [
        "autoencoder.compile(loss='mse', optimizer='adam')\n",
        "autoencoder.summary()"
      ],
      "metadata": {
        "colab": {
          "base_uri": "https://localhost:8080/"
        },
        "id": "95U50KR8TA3E",
        "outputId": "3b88e969-c860-4dbd-cf26-eb51545292a4"
      },
      "execution_count": 7,
      "outputs": [
        {
          "output_type": "stream",
          "name": "stdout",
          "text": [
            "Model: \"autoencoder\"\n",
            "_________________________________________________________________\n",
            " Layer (type)                Output Shape              Param #   \n",
            "=================================================================\n",
            " input_1 (InputLayer)        [(None, 28, 28, 1)]       0         \n",
            "                                                                 \n",
            " encoder (Functional)        (None, 16)                69392     \n",
            "                                                                 \n",
            " decoder (Functional)        (None, 28, 28, 1)         109377    \n",
            "                                                                 \n",
            "=================================================================\n",
            "Total params: 178769 (698.32 KB)\n",
            "Trainable params: 178385 (696.82 KB)\n",
            "Non-trainable params: 384 (1.50 KB)\n",
            "_________________________________________________________________\n"
          ]
        }
      ]
    },
    {
      "cell_type": "code",
      "source": [
        "history = autoencoder.fit(\n",
        "    train_x, train_x,\n",
        "    validation_data=(test_x, test_x),\n",
        "    epochs = epoch,\n",
        "    batch_size=batch_size\n",
        ")"
      ],
      "metadata": {
        "colab": {
          "base_uri": "https://localhost:8080/"
        },
        "id": "bARXLzh8TjUU",
        "outputId": "39f17f0b-f92d-4d28-d7d3-c4b07f1d9f72"
      },
      "execution_count": 9,
      "outputs": [
        {
          "output_type": "stream",
          "name": "stdout",
          "text": [
            "Epoch 1/20\n",
            "1875/1875 [==============================] - 27s 6ms/step - loss: 0.0185 - val_loss: 0.0108\n",
            "Epoch 2/20\n",
            "1875/1875 [==============================] - 11s 6ms/step - loss: 0.0104 - val_loss: 0.0093\n",
            "Epoch 3/20\n",
            "1875/1875 [==============================] - 14s 7ms/step - loss: 0.0094 - val_loss: 0.0092\n",
            "Epoch 4/20\n",
            "1875/1875 [==============================] - 12s 6ms/step - loss: 0.0087 - val_loss: 0.0083\n",
            "Epoch 5/20\n",
            "1875/1875 [==============================] - 11s 6ms/step - loss: 0.0084 - val_loss: 0.0085\n",
            "Epoch 6/20\n",
            "1875/1875 [==============================] - 12s 6ms/step - loss: 0.0081 - val_loss: 0.0080\n",
            "Epoch 7/20\n",
            "1875/1875 [==============================] - 12s 7ms/step - loss: 0.0079 - val_loss: 0.0077\n",
            "Epoch 8/20\n",
            "1875/1875 [==============================] - 11s 6ms/step - loss: 0.0077 - val_loss: 0.0077\n",
            "Epoch 9/20\n",
            "1875/1875 [==============================] - 11s 6ms/step - loss: 0.0075 - val_loss: 0.0074\n",
            "Epoch 10/20\n",
            "1875/1875 [==============================] - 13s 7ms/step - loss: 0.0074 - val_loss: 0.0074\n",
            "Epoch 11/20\n",
            "1875/1875 [==============================] - 12s 6ms/step - loss: 0.0073 - val_loss: 0.0077\n",
            "Epoch 12/20\n",
            "1875/1875 [==============================] - 11s 6ms/step - loss: 0.0072 - val_loss: 0.0074\n",
            "Epoch 13/20\n",
            "1875/1875 [==============================] - 12s 6ms/step - loss: 0.0071 - val_loss: 0.0071\n",
            "Epoch 14/20\n",
            "1875/1875 [==============================] - 11s 6ms/step - loss: 0.0070 - val_loss: 0.0071\n",
            "Epoch 15/20\n",
            "1875/1875 [==============================] - 11s 6ms/step - loss: 0.0069 - val_loss: 0.0071\n",
            "Epoch 16/20\n",
            "1875/1875 [==============================] - 11s 6ms/step - loss: 0.0069 - val_loss: 0.0072\n",
            "Epoch 17/20\n",
            "1875/1875 [==============================] - 12s 6ms/step - loss: 0.0068 - val_loss: 0.0070\n",
            "Epoch 18/20\n",
            "1875/1875 [==============================] - 12s 6ms/step - loss: 0.0068 - val_loss: 0.0072\n",
            "Epoch 19/20\n",
            "1875/1875 [==============================] - 11s 6ms/step - loss: 0.0067 - val_loss: 0.0068\n",
            "Epoch 20/20\n",
            "1875/1875 [==============================] - 11s 6ms/step - loss: 0.0067 - val_loss: 0.0068\n"
          ]
        }
      ]
    },
    {
      "cell_type": "code",
      "source": [
        "import cv2\n",
        "import numpy as np\n",
        "\n",
        "decoded = autoencoder.predict(test_x)\n",
        "outputs = None\n",
        "\n",
        "for i in range(10):\n",
        "  orig = (test_x[i] * 255).astype('uint8')\n",
        "  constructed = (decoded[i] * 255).astype('uint8')\n",
        "\n",
        "  output = np.hstack([orig, constructed])\n",
        "\n",
        "  if outputs is None:\n",
        "    outputs = output\n",
        "  else:\n",
        "    outputs = np.vstack((outputs, output))\n",
        "\n",
        "# Save the result using cv2\n",
        "cv2.imwrite('output_image.png', outputs)\n"
      ],
      "metadata": {
        "id": "MGTWWcn4UW3E",
        "colab": {
          "base_uri": "https://localhost:8080/"
        },
        "outputId": "c57e85ef-083d-4bc4-a788-2d3aeb1e90ed"
      },
      "execution_count": 11,
      "outputs": [
        {
          "output_type": "stream",
          "name": "stdout",
          "text": [
            "313/313 [==============================] - 1s 2ms/step\n"
          ]
        },
        {
          "output_type": "execute_result",
          "data": {
            "text/plain": [
              "True"
            ]
          },
          "metadata": {},
          "execution_count": 11
        }
      ]
    }
  ]
}